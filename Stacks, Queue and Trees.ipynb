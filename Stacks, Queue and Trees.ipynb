{
 "cells": [
  {
   "cell_type": "code",
   "execution_count": 4,
   "metadata": {},
   "outputs": [],
   "source": [
    "import timeit\n",
    "import collections # contains python inbuilt functions for datastructures, ex- appendleft,popleft"
   ]
  },
  {
   "cell_type": "markdown",
   "metadata": {},
   "source": [
    "# Applications for Stack"
   ]
  },
  {
   "cell_type": "markdown",
   "metadata": {},
   "source": [
    "## Q1 Find the next element greater than the element itself"
   ]
  },
  {
   "cell_type": "code",
   "execution_count": 2,
   "metadata": {},
   "outputs": [],
   "source": [
    "def greater_element1(arr):\n",
    "    \"\"\"\n",
    "    finding the next greater element - O(n^2) - bruteforce approach\n",
    "    \"\"\"\n",
    "    result=[-1]*len(arr)\n",
    "    for i in range(len(arr)): # for each element\n",
    "        for j in range(i+1,len(arr)): # traversing from position element till end \n",
    "            if arr[i]<arr[j]: # whenever found assign and break\n",
    "                result[i]=arr[j]\n",
    "                break\n",
    "    return result\n"
   ]
  },
  {
   "cell_type": "code",
   "execution_count": 3,
   "metadata": {},
   "outputs": [
    {
     "data": {
      "text/plain": [
       "[5, 10, 15, -1, 10, -1]"
      ]
     },
     "execution_count": 3,
     "metadata": {},
     "output_type": "execute_result"
    }
   ],
   "source": [
    "# checking result\n",
    "greater_element1([1,5,10,15,9,10])"
   ]
  },
  {
   "cell_type": "code",
   "execution_count": 1,
   "metadata": {},
   "outputs": [],
   "source": [
    "# Defining stack - Last in first out (LIFO)\n",
    "class stack:\n",
    "    def __init__(self):\n",
    "        self.items=[]  # creates a python list when stack class called\n",
    "    def push(self,b):\n",
    "        self.items.append(b)\n",
    "    def pop(self):\n",
    "        if self.items!=[]:\n",
    "            return self.items.pop()\n",
    "    def top(self):\n",
    "        return self.items[-1]\n",
    "    def isempty(self):\n",
    "        return self.items==[]\n",
    "    def length(self):\n",
    "        return len(self.items)"
   ]
  },
  {
   "cell_type": "code",
   "execution_count": 14,
   "metadata": {},
   "outputs": [],
   "source": [
    "def greater_element_stack(arr):\n",
    "    \"\"\"\n",
    "    finding the next greater element - O(n) - stack based approach\n",
    "    \"\"\"\n",
    "    result=[-1]*len(arr)\n",
    "    stk=stack() # initialize stack object\n",
    "    for i in range(len(arr)): # for each element\n",
    "        while(stk.isempty==False and arr[i]>arr[stk.top()]): # empty condition first, so when empty==true then 2nd condition not checked, hence no error for stk.top\n",
    "            idx=stk.pop()  ##returns id \n",
    "            result[idx]=arr[i]\n",
    "            stk.push(i) # after pushing comparing next element and keep on pushing until finds the element\n",
    "            return result"
   ]
  },
  {
   "cell_type": "code",
   "execution_count": 15,
   "metadata": {},
   "outputs": [
    {
     "data": {
      "text/plain": [
       "[5, 10, 15, -1, 10, -1]"
      ]
     },
     "execution_count": 15,
     "metadata": {},
     "output_type": "execute_result"
    }
   ],
   "source": [
    "# checking result\n",
    "greater_element1([1,5,10,15,9,10])"
   ]
  },
  {
   "cell_type": "code",
   "execution_count": 16,
   "metadata": {},
   "outputs": [
    {
     "name": "stdout",
     "output_type": "stream",
     "text": [
      "2.52 µs ± 9.88 ns per loop (mean ± std. dev. of 7 runs, 100000 loops each)\n"
     ]
    }
   ],
   "source": [
    "%%timeit\n",
    "greater_element1([1,5,10,15,9,10])"
   ]
  },
  {
   "cell_type": "code",
   "execution_count": 17,
   "metadata": {},
   "outputs": [
    {
     "name": "stdout",
     "output_type": "stream",
     "text": [
      "1.09 µs ± 9.91 ns per loop (mean ± std. dev. of 7 runs, 1000000 loops each)\n"
     ]
    }
   ],
   "source": [
    "# Time to process for stack decreased, and it has more impact when the list length increased\n",
    "%%timeit\n",
    "greater_element_stack([1,5,10,15,9,10])"
   ]
  },
  {
   "cell_type": "markdown",
   "metadata": {},
   "source": [
    "## Q2 Removing the elements, if they have adjacent duplicate"
   ]
  },
  {
   "cell_type": "code",
   "execution_count": 19,
   "metadata": {},
   "outputs": [],
   "source": [
    "# using Inplace stack- overwriting the current list \n",
    "def remove_adj(s):\n",
    "    top = -1\n",
    "    i = 0\n",
    "    l = [i for i in s] # converting string to list using List comprehension\n",
    "    \n",
    "    while(i<len(l)):\n",
    "        if top == -1 or l[top] != l[i]: # i always ahead of top\n",
    "            top = top + 1   # increment top to push next element\n",
    "            l[top] = l[i] # push as not same\n",
    "            i = i + 1  # again increment i to check next value\n",
    "        else:\n",
    "            while(i < len(l) and l[top] == l[i]): # if adjacent same no push\n",
    "                i = i + 1 # go to next element to check again with top\n",
    "            top = top - 1 # as the first element used for comparison also should be removed\n",
    "            \n",
    "    print(\"\".join(l[0:top+1]))        #+1 as top needs to be included"
   ]
  },
  {
   "cell_type": "code",
   "execution_count": 21,
   "metadata": {},
   "outputs": [
    {
     "name": "stdout",
     "output_type": "stream",
     "text": [
      "science\n",
      "claify\n"
     ]
    },
    {
     "data": {
      "text/plain": [
       "(None, None)"
      ]
     },
     "execution_count": 21,
     "metadata": {},
     "output_type": "execute_result"
    }
   ],
   "source": [
    "a=\"science\"\n",
    "b=\"classify\"\n",
    "remove_adj(a),remove_adj(b)"
   ]
  },
  {
   "cell_type": "markdown",
   "metadata": {},
   "source": [
    "## Q3 Various signal towers are present in a city.Towers are aligned in a straight horizontal line(from left to right) and each tower transmits a signal in the right to left direction. Tower A shall block the signal of Tower B if Tower A is present to the left of Tower B and Tower A is taller than Tower B. So,the range of a signal of a given tower can be defined as :\n",
    "\n",
    "### {(the number of contiguous towers just to the left of the given tower whose height is less than or equal to the height of the given tower) + 1}.\n",
    "\n",
    "### Need to find the range of each tower?"
   ]
  },
  {
   "cell_type": "code",
   "execution_count": 22,
   "metadata": {},
   "outputs": [],
   "source": [
    "def signal_brute_force(t):\n",
    "    \"\"\"\n",
    "    Number of towers signal is able to reach - O(N^2)- bruteforce approach\n",
    "    \"\"\"\n",
    "    signal=[1]*len(t)\n",
    "    for i in range(1,len(t)):\n",
    "        for j in range(i-1,-1,-1): ### need 0 element also\n",
    "            if t[i]>=t[j]:\n",
    "                signal[i]+=1\n",
    "            else:\n",
    "                break\n",
    "    return signal"
   ]
  },
  {
   "cell_type": "code",
   "execution_count": 25,
   "metadata": {},
   "outputs": [],
   "source": [
    "def signal_stack(t):\n",
    "    \"\"\"\n",
    "    Number of towers signal is able to reach - O(N^2)- using stack data structure approach\n",
    "    \"\"\"\n",
    "    signal=[0]*len(t)\n",
    "    stk=stack()\n",
    "    for i in range(0,len(t)):\n",
    "        while(stk.isempty()==False and t[i]>=t[stk.top()]): \n",
    "            stk.pop()\n",
    "            \n",
    "        if stk.isempty()==True: \n",
    "            signal[i]=i+1\n",
    "        else: \n",
    "            signal[i]=i-stk.top() \n",
    "        \n",
    "        stk.push(i)\n",
    "    return signal"
   ]
  },
  {
   "cell_type": "code",
   "execution_count": 32,
   "metadata": {},
   "outputs": [],
   "source": [
    "tower_height=[100,50,50,80,20,200,400,75,85,100,20,40]"
   ]
  },
  {
   "cell_type": "code",
   "execution_count": 33,
   "metadata": {},
   "outputs": [
    {
     "name": "stdout",
     "output_type": "stream",
     "text": [
      "5.31 µs ± 74.1 ns per loop (mean ± std. dev. of 7 runs, 100000 loops each)\n"
     ]
    }
   ],
   "source": [
    "%%timeit\n",
    "signal_brute_force(tower_height)"
   ]
  },
  {
   "cell_type": "code",
   "execution_count": 34,
   "metadata": {},
   "outputs": [
    {
     "name": "stdout",
     "output_type": "stream",
     "text": [
      "14 µs ± 379 ns per loop (mean ± std. dev. of 7 runs, 100000 loops each)\n"
     ]
    }
   ],
   "source": [
    "# Time to process for stack increased, which is unexpected\n",
    "\n",
    "%%timeit\n",
    "signal_stack(tower_height)"
   ]
  },
  {
   "cell_type": "markdown",
   "metadata": {},
   "source": [
    "# Tree data structure"
   ]
  },
  {
   "cell_type": "markdown",
   "metadata": {},
   "source": [
    "## Preorder traversal in a tree (root-LS-RS) - Recursive and Iterative method "
   ]
  },
  {
   "cell_type": "code",
   "execution_count": 35,
   "metadata": {},
   "outputs": [],
   "source": [
    "result=[]\n",
    "def preorder_recur(root):\n",
    "    \"\"\"\n",
    "    Preorder traversal using Recursive functions\n",
    "    \"\"\"\n",
    "    if root==None:\n",
    "        return\n",
    "    result.append(root.value)\n",
    "    preorder_recur(root.left)\n",
    "    preorder_recur(root.right)"
   ]
  },
  {
   "cell_type": "code",
   "execution_count": 36,
   "metadata": {},
   "outputs": [],
   "source": [
    "result=[]\n",
    "def preorder_iter(root):\n",
    "    \"\"\"\n",
    "    Preorder traversal using stack based data structure - iterative approach\n",
    "    \"\"\"\n",
    "    stk=stack()\n",
    "    cur=root #auxilary root\n",
    "    while True:\n",
    "        while cur != None:\n",
    "            result.append(cur.val) #cur is tree structure hence we do .val to get only value and not append data type\n",
    "            stk.push(cur)\n",
    "            cur=cur.left #root changed\n",
    "        if stk.isempty()==True:\n",
    "            return ## to break the loop if no base root left\n",
    "        # no loop for right, as we always go left when there is option, otherwise go up and take right\n",
    "        cur=stk.top #go up\n",
    "        stk.pop  # remove already covered roots\n",
    "        cur=cur.right ## take right "
   ]
  },
  {
   "cell_type": "markdown",
   "metadata": {},
   "source": [
    "## Inorder traversal in a tree (LS-root-RS) - Recursive and Iterative method"
   ]
  },
  {
   "cell_type": "code",
   "execution_count": 78,
   "metadata": {},
   "outputs": [],
   "source": [
    "result=[]\n",
    "def inorder_recur(root):\n",
    "    \"\"\"\n",
    "    Inorder traversal using Recursive functions\n",
    "    \"\"\"\n",
    "    if root==None: # no other roots found break the loop(recursion)\n",
    "        return   ###remove the root, hence we go up in the root ?? but how ?\n",
    "    inorder_recur(root.left)\n",
    "    result.append(root.val) ## not root.left, as root goes up by using return\n",
    "    inorder_recur(root.right)"
   ]
  },
  {
   "cell_type": "code",
   "execution_count": 38,
   "metadata": {},
   "outputs": [],
   "source": [
    "result=[]\n",
    "def inorder_iter(root):\n",
    "    \"\"\"\n",
    "    Inorder traversal using stack based data structure - iterative approach\n",
    "    \"\"\"\n",
    "    stk = stack()\n",
    "    cur = root # auxilary root\n",
    "    while True: # for running in infinite loop, covering all binary trees\n",
    "        while cur != None:\n",
    "            stk.push(cur)\n",
    "            cur = cur.left # root changed\n",
    "        if stk.isempty() == True: # when stack become empty, stop it \n",
    "            return # to break the loop if no base root left\n",
    "        cur = stk.top # go up the tree\n",
    "        result.append(stk.top) \n",
    "        stk.pop  # remove the root part from stack and go towards its word\n",
    "        cur = cur.right ## take right     "
   ]
  },
  {
   "cell_type": "markdown",
   "metadata": {},
   "source": [
    "## Postorder traversal in a tree (LS-RS-root) - Recursive "
   ]
  },
  {
   "cell_type": "code",
   "execution_count": null,
   "metadata": {},
   "outputs": [],
   "source": [
    "result=[]\n",
    "def postorder_recur(root):\n",
    "    \"\"\"\n",
    "    Postorder traversal using Recursive functions\n",
    "    \"\"\"\n",
    "    if root==None: \n",
    "        return   \n",
    "    postorder_recur(root.left)\n",
    "    postorder_recur(root.right)\n",
    "    result.append(root.val) "
   ]
  },
  {
   "cell_type": "markdown",
   "metadata": {},
   "source": [
    "## Q4 Binary tree pruning - removing terminal node if it is 0 or removing the root whose leaves are all 0 values"
   ]
  },
  {
   "cell_type": "code",
   "execution_count": 79,
   "metadata": {},
   "outputs": [],
   "source": [
    "def prunetree(root):\n",
    "    \"\"\"\n",
    "    We use Postorder traversal for this (LS-RS- root) and check if values are zero\n",
    "    \"\"\"\n",
    "    if root==None: \n",
    "        return    # till we get root = None\n",
    "    root.left = prunetree(root.left) # complete progress towards left\n",
    "    root.right = prunetree(root.right) # progress towards right\n",
    "    if root.val==0 and root.right==None and root.left==None: # checking if terminal node\n",
    "        return None # remove the value \n",
    "    return root"
   ]
  },
  {
   "cell_type": "markdown",
   "metadata": {},
   "source": [
    "## Level wise traversal in a tree - We use Queue structures (FIFO)"
   ]
  },
  {
   "cell_type": "code",
   "execution_count": 39,
   "metadata": {},
   "outputs": [],
   "source": [
    "# queue first in first out (FIFO) - insert and deletion happens from opposite ends\n",
    "class queue:\n",
    "    def __init__(self):\n",
    "        self.items=[]  # creates a empty python list ...hence we can use list functions\n",
    "    def enqueue(self,b): #insert at last\n",
    "        self.items.append(b)\n",
    "    def dequeue(self): # delete from first, popleft()\n",
    "        if self.items!=[]:\n",
    "            return self.items.pop(0) # returns from 0th element \n",
    "    def front(self):\n",
    "        if self.items!=[]:\n",
    "            return self.items[0]\n",
    "    def last(self):\n",
    "        if self.items!=[]:\n",
    "            return self.items[-1]\n",
    "    def isempty(self):\n",
    "        return self.items==[]\n",
    "    # insert at first , delete from last\n",
    "    def enqueue_front(self,b): # insert at first - appendleft()\n",
    "        self.items.insert(0,b)\n",
    "    def dequeue_last(self): #delete from last\n",
    "        if self.items!=[]:\n",
    "            return self.items.pop() # returns from 0th element "
   ]
  },
  {
   "cell_type": "code",
   "execution_count": null,
   "metadata": {},
   "outputs": [],
   "source": []
  }
 ],
 "metadata": {
  "kernelspec": {
   "display_name": "Python 3",
   "language": "python",
   "name": "python3"
  },
  "language_info": {
   "codemirror_mode": {
    "name": "ipython",
    "version": 3
   },
   "file_extension": ".py",
   "mimetype": "text/x-python",
   "name": "python",
   "nbconvert_exporter": "python",
   "pygments_lexer": "ipython3",
   "version": "3.6.5"
  }
 },
 "nbformat": 4,
 "nbformat_minor": 2
}
